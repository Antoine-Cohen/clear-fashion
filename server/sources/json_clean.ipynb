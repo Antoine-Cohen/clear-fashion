{
 "cells": [
  {
   "cell_type": "code",
   "execution_count": 12,
   "id": "c2727481",
   "metadata": {},
   "outputs": [],
   "source": [
    "import json\n",
    "import re"
   ]
  },
  {
   "cell_type": "code",
   "execution_count": 7,
   "id": "0d26ab9b",
   "metadata": {},
   "outputs": [],
   "source": [
    "with open('items.json','r') as f:\n",
    "    x = json.load(f)"
   ]
  },
  {
   "cell_type": "code",
   "execution_count": 21,
   "id": "08cf15c2",
   "metadata": {},
   "outputs": [],
   "source": [
    "for prod in x:\n",
    "    price  = float(re.match(r'([0-9]*[.])?[0-9]+',prod['price']).group())\n",
    "    prod['price'] = price"
   ]
  },
  {
   "cell_type": "code",
   "execution_count": 32,
   "id": "2056a04d",
   "metadata": {},
   "outputs": [],
   "source": [
    "with open('items.json', 'w') as fout:\n",
    "    json.dump(x , fout)"
   ]
  },
  {
   "cell_type": "code",
   "execution_count": null,
   "id": "313cf735",
   "metadata": {},
   "outputs": [],
   "source": []
  }
 ],
 "metadata": {
  "kernelspec": {
   "display_name": "Python 3 (ipykernel)",
   "language": "python",
   "name": "python3"
  },
  "language_info": {
   "codemirror_mode": {
    "name": "ipython",
    "version": 3
   },
   "file_extension": ".py",
   "mimetype": "text/x-python",
   "name": "python",
   "nbconvert_exporter": "python",
   "pygments_lexer": "ipython3",
   "version": "3.7.4"
  }
 },
 "nbformat": 4,
 "nbformat_minor": 5
}
